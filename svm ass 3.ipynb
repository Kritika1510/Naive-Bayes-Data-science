{
 "cells": [
  {
   "cell_type": "code",
   "execution_count": null,
   "id": "7b011921",
   "metadata": {},
   "outputs": [],
   "source": [
    "Q2. If the goal is to predict the actual price of a house as accurately as possible, the Mean Squared Error (MSE) would be more appropriate as the evaluation metric for your SVM regression model. MSE measures the average squared difference between the predicted and actual house prices. Minimizing MSE results in predictions that are as close as possible to the actual prices, making it suitable for assessing the accuracy of the model's predictions in terms of their proximity to the true values.\n",
    "\n",
    "Q3. When dealing with a dataset that contains a significant number of outliers, the Mean Absolute Error (MAE) would be the most appropriate regression metric to use with your SVM model. MAE calculates the average absolute difference between the predicted and actual values, making it less sensitive to outliers compared to other metrics like MSE. MAE provides a more robust measure of the model's performance by giving equal weight to all errors, regardless of their magnitude. This makes MAE a better choice for evaluating the model's predictive accuracy in the presence of outliers, as it provides a more balanced representation of prediction errors."
   ]
  }
 ],
 "metadata": {
  "kernelspec": {
   "display_name": "Python 3 (ipykernel)",
   "language": "python",
   "name": "python3"
  },
  "language_info": {
   "codemirror_mode": {
    "name": "ipython",
    "version": 3
   },
   "file_extension": ".py",
   "mimetype": "text/x-python",
   "name": "python",
   "nbconvert_exporter": "python",
   "pygments_lexer": "ipython3",
   "version": "3.11.3"
  }
 },
 "nbformat": 4,
 "nbformat_minor": 5
}
