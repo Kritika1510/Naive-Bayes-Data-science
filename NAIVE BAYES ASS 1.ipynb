{
 "cells": [
  {
   "cell_type": "code",
   "execution_count": null,
   "id": "c2560b6c",
   "metadata": {},
   "outputs": [],
   "source": [
    "Q1. Bayes' theorem is a fundamental concept in probability theory and statistics, named after the Reverend Thomas Bayes. It describes the probability of an event, based on prior knowledge of conditions that might be related to the event.\n",
    "\n",
    "Q2. The formula for Bayes' theorem is:\n",
    "\n",
    "\\[ P(A|B) = \\frac{P(B|A) \\cdot P(A)}{P(B)} \\]\n",
    "\n",
    "Where:\n",
    "- \\( P(A|B) \\) is the probability of event A occurring given that event B has occurred.\n",
    "- \\( P(B|A) \\) is the probability of event B occurring given that event A has occurred.\n",
    "- \\( P(A) \\) and \\( P(B) \\) are the probabilities of events A and B occurring independently.\n",
    "\n",
    "Q3. Bayes' theorem is used in various fields such as statistics, machine learning, and artificial intelligence for tasks such as classification, prediction, and inference. It provides a mathematical framework for updating probabilities based on new evidence.\n",
    "\n",
    "Q4. Bayes' theorem is closely related to conditional probability. Conditional probability is the probability of an event occurring given that another event has already occurred. Bayes' theorem provides a way to calculate conditional probabilities when the probabilities of events are known or can be estimated.\n",
    "\n",
    "Q5. Choosing the type of Naive Bayes classifier depends on the nature of the problem and the assumptions about the data. The three main types of Naive Bayes classifiers are:\n",
    "   - Gaussian Naive Bayes: Assumes that features follow a normal distribution.\n",
    "   - Multinomial Naive Bayes: Suitable for features that represent counts or frequencies.\n",
    "   - Bernoulli Naive Bayes: Assumes binary-valued features.\n",
    "\n",
    "   The choice depends on the distribution of the features and the characteristics of the problem being solved.\n",
    "\n",
    "Q6. To predict the class of the new instance using Naive Bayes, we calculate the posterior probability of each class given the features \\( X1 = 3 \\) and \\( X2 = 4 \\), and then choose the class with the highest probability.\n",
    "\n",
    "Given the provided dataset and assuming equal prior probabilities for each class, we calculate:\n",
    "\n",
    "For class A:\n",
    "\\[ P(A|X1=3, X2=4) = \\frac{P(X1=3|A) \\cdot P(X2=4|A) \\cdot P(A)}{P(X1=3) \\cdot P(X2=4)} \\]\n",
    "\n",
    "For class B:\n",
    "\\[ P(B|X1=3, X2=4) = \\frac{P(X1=3|B) \\cdot P(X2=4|B) \\cdot P(B)}{P(X1=3) \\cdot P(X2=4)} \\]\n",
    "\n",
    "Given the frequencies provided in the table, we can calculate the probabilities:\n",
    "\n",
    "For class A:\n",
    "\\[ P(X1=3|A) = \\frac{4}{10} \\]\n",
    "\\[ P(X2=4|A) = \\frac{3}{10} \\]\n",
    "\\[ P(A) = \\frac{1}{2} \\] (assuming equal prior probabilities)\n",
    "\n",
    "For class B:\n",
    "\\[ P(X1=3|B) = \\frac{1}{5} \\]\n",
    "\\[ P(X2=4|B) = \\frac{3}{5} \\]\n",
    "\\[ P(B) = \\frac{1}{2} \\] (assuming equal prior probabilities)\n",
    "\n",
    "Given these probabilities, we calculate the posterior probabilities for each class and compare them:\n",
    "\n",
    "For class A:\n",
    "\\[ P(A|X1=3, X2=4) = \\frac{\\frac{4}{10} \\cdot \\frac{3}{10} \\cdot \\frac{1}{2}}{P(X1=3) \\cdot P(X2=4)} \\]\n",
    "\n",
    "For class B:\n",
    "\\[ P(B|X1=3, X2=4) = \\frac{\\frac{1}{5} \\cdot \\frac{3}{5} \\cdot \\frac{1}{2}}{P(X1=3) \\cdot P(X2=4)} \\]\n",
    "\n",
    "Since \\( P(X1=3) \\) and \\( P(X2=4) \\) are common in both calculations, they cancel out when comparing the probabilities. Thus, we only need to compare the numerators. \n",
    "\n",
    "After calculations, we find that \\( P(A|X1=3, X2=4) > P(B|X1=3, X2=4) \\), so the Naive Bayes classifier would predict the new instance to belong to class A.\n"
   ]
  }
 ],
 "metadata": {
  "kernelspec": {
   "display_name": "Python 3 (ipykernel)",
   "language": "python",
   "name": "python3"
  },
  "language_info": {
   "codemirror_mode": {
    "name": "ipython",
    "version": 3
   },
   "file_extension": ".py",
   "mimetype": "text/x-python",
   "name": "python",
   "nbconvert_exporter": "python",
   "pygments_lexer": "ipython3",
   "version": "3.11.3"
  }
 },
 "nbformat": 4,
 "nbformat_minor": 5
}
